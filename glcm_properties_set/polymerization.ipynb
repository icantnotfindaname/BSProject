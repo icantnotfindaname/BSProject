{
 "cells": [
  {
   "cell_type": "code",
   "execution_count": 20,
   "metadata": {},
   "outputs": [],
   "source": [
    "import csv\n",
    "import pandas as pd\n",
    "import numpy as np\n",
    "import torch\n",
    "import matplotlib.pyplot as plt\n",
    "import time\n",
    "import os\n",
    "from torch.utils.data import Dataset\n",
    "from torch.utils.data import DataLoader\n",
    "from sklearn.preprocessing import LabelEncoder\n",
    "from torch import nn\n",
    "from torch.nn import functional as F\n",
    "from IPython import display\n",
    "from enum import Enum"
   ]
  },
  {
   "cell_type": "code",
   "execution_count": 2,
   "metadata": {},
   "outputs": [],
   "source": [
    "BASE_PATH = './'\n",
    "HEADER = 'glcm_bytes_'\n",
    "CSV_SUFFIX = '.csv'\n",
    "LABEL_FILENAME = 'label.csv'\n",
    "PROPERTY_ARRAY_SIZE = 256\n",
    "\n",
    "Properties = Enum('Property', ('contrast', 'homogeneity', 'correlation', 'dissimilarity', 'energy', 'entropy'))"
   ]
  },
  {
   "cell_type": "code",
   "execution_count": 3,
   "metadata": {},
   "outputs": [],
   "source": [
    "def getPropertyCsvPath(property):\n",
    "    return BASE_PATH + HEADER + property + CSV_SUFFIX\n",
    "\n",
    "def handleStrListOutliers(strList):\n",
    "    if len(strList) != PROPERTY_ARRAY_SIZE:\n",
    "        strList += ['nan' for i in range(PROPERTY_ARRAY_SIZE - len(strList))]\n",
    "    for i in range(len(strList)):\n",
    "        if strList[i] == 'nan': strList[i] = \"0\"\n",
    "    return strList\n",
    "\n",
    "def fromStrListToFloatList(strList):\n",
    "    return [round(float(i), 4) for i in strList]\n",
    "\n",
    "def getPropertyStrList(item):\n",
    "    return handleStrListOutliers(item[2].split(' '))\n",
    "\n",
    "def regularizeList(list):\n",
    "    min, max = 0.0, 0.0\n",
    "    for item in list:\n",
    "        for i in item:\n",
    "            if i < min: min = i\n",
    "            if i > max: max = i\n",
    "    for i in range(len(list)):\n",
    "        for j in range(len(list[0])):\n",
    "            list[i][j] = round((list[i][j] - min) / (max - min), 4) * 100\n",
    "    return list\n",
    "\n",
    "def getPropertyList(property):\n",
    "    path = getPropertyCsvPath(property)\n",
    "    array = np.array(pd.read_csv(path))\n",
    "    propertyList = []\n",
    "    for item in array:\n",
    "        propertyList.append(fromStrListToFloatList(getPropertyStrList(item)))\n",
    "    return regularizeList(propertyList)"
   ]
  },
  {
   "cell_type": "code",
   "execution_count": 6,
   "metadata": {},
   "outputs": [],
   "source": [
    "def combinePropertyLists():\n",
    "    combinedList = []\n",
    "    for property, _ in Properties.__members__.items():\n",
    "        combinedList.append(getPropertyList(property))\n",
    "    combinedArray = np.array(combinedList)\n",
    "    return combinedArray"
   ]
  },
  {
   "cell_type": "code",
   "execution_count": 10,
   "metadata": {},
   "outputs": [],
   "source": [
    "def getLabelCsvPath():\n",
    "    return BASE_PATH + LABEL_FILENAME\n",
    "\n",
    "def getLabelArray():\n",
    "    csv_reader = pd.read_csv(getLabelCsvPath())\n",
    "    return np.array(csv_reader)"
   ]
  },
  {
   "cell_type": "code",
   "execution_count": 15,
   "metadata": {},
   "outputs": [
    {
     "name": "stdout",
     "output_type": "stream",
     "text": [
      "la:  (10868, 2)\n",
      "ca:  (6, 10868, 256)\n",
      "(10868, 3)\n"
     ]
    },
    {
     "name": "stderr",
     "output_type": "stream",
     "text": [
      "<ipython-input-15-bfb0dbf81ef5>:11: VisibleDeprecationWarning: Creating an ndarray from ragged nested sequences (which is a list-or-tuple of lists-or-tuples-or ndarrays with different lengths or shapes) is deprecated. If you meant to do this, you must specify 'dtype=object' when creating the ndarray\n",
      "  return np.array(combinedList)\n"
     ]
    }
   ],
   "source": [
    "def combineLabelAndProperties(labelArray, combinedPropertyArray):\n",
    "    print(\"la: \", labelArray.shape)\n",
    "    print(\"ca: \", combinedPropertyArray.shape)\n",
    "    combinedList = []\n",
    "    for i in range(len(labelArray)):\n",
    "        tempList = []\n",
    "        tempList.append(labelArray[i][0])\n",
    "        tempList.append(labelArray[i][1])\n",
    "        tempList.append(combinedPropertyArray[:, i, :])\n",
    "        combinedList.append(tempList)\n",
    "    return np.array(combinedList)\n",
    "\n",
    "def polymerToArray():\n",
    "    combinedPropertyArray = combinePropertyLists()\n",
    "    labelArray = getLabelArray()\n",
    "    return combineLabelAndProperties(labelArray, combinedPropertyArray)\n",
    "\n",
    "finalArray = polymerToArray()\n",
    "print(finalArray.shape)"
   ]
  },
  {
   "cell_type": "code",
   "execution_count": 30,
   "metadata": {},
   "outputs": [
    {
     "name": "stdout",
     "output_type": "stream",
     "text": [
      "(6, 256)\n",
      "<class 'numpy.ndarray'>\n"
     ]
    }
   ],
   "source": [
    "print(finalArray[0][-1].shape)\n",
    "print(type(finalArray[1][-1]))\n",
    "# print(finalArray[1][-1].tolist())"
   ]
  },
  {
   "cell_type": "code",
   "execution_count": 28,
   "metadata": {},
   "outputs": [],
   "source": [
    "class MulDataset(Dataset):\n",
    "    def __init__(self, mulArray):\n",
    "        self.mulArray = mulArray\n",
    "        self.samples = []\n",
    "        self.label_codec = LabelEncoder()\n",
    "        self._init_dataset()\n",
    "    \n",
    "    def __len__(self):\n",
    "        return len(self.samples)\n",
    "\n",
    "    def __getitem__(self, idx):\n",
    "        feature, label = self.samples[idx]\n",
    "        return self.one_hot_sample(feature, int(label))\n",
    "\n",
    "    def _init_dataset(self):\n",
    "        for item in self.mulArray:\n",
    "            list = item[2].tolist()\n",
    "            label = item[1]\n",
    "            self.samples.append((list, label))\n",
    "\n",
    "    def to_one_hot(self, codec, label):\n",
    "        value_idxs = codec.transform(label)\n",
    "        return torch.eye(len(codec.classes_))[value_idxs]\n",
    "\n",
    "    def one_hot_sample(self, feature, label):\n",
    "        t_feature = torch.tensor(feature, dtype=torch.float).view(6, 16, 16)\n",
    "        t_label= torch.tensor(label-1, dtype=torch.long)\n",
    "        return t_feature, t_label"
   ]
  },
  {
   "cell_type": "code",
   "execution_count": 29,
   "metadata": {},
   "outputs": [],
   "source": [
    "batch_size, lr, num_epochs = 32, 0.1, 200\n",
    "device = torch.device('cpu')\n",
    "dataset = MulDataset(finalArray)\n",
    "train_size = int(len(dataset) * 0.7)\n",
    "test_size = len(dataset) - train_size\n",
    "train_set, test_set = torch.utils.data.random_split(dataset, [train_size, test_size])\n",
    "train_iter = iter(DataLoader(train_set, batch_size=batch_size, shuffle=True))\n",
    "test_iter = iter(DataLoader(test_set, batch_size=batch_size, shuffle=True))"
   ]
  }
 ],
 "metadata": {
  "interpreter": {
   "hash": "46eab4cdc3dfd691a172087b57cecc25d7465ea578e7333900c483b7d29593d8"
  },
  "kernelspec": {
   "display_name": "Python 3.8.5 ('base')",
   "language": "python",
   "name": "python3"
  },
  "language_info": {
   "codemirror_mode": {
    "name": "ipython",
    "version": 3
   },
   "file_extension": ".py",
   "mimetype": "text/x-python",
   "name": "python",
   "nbconvert_exporter": "python",
   "pygments_lexer": "ipython3",
   "version": "3.8.5"
  },
  "orig_nbformat": 4
 },
 "nbformat": 4,
 "nbformat_minor": 2
}
